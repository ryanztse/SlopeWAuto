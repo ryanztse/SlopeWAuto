{
 "cells": [
  {
   "cell_type": "markdown",
   "id": "a3a009d5",
   "metadata": {},
   "source": [
    "### SlopeW Automation"
   ]
  },
  {
   "cell_type": "markdown",
   "id": "fcd6614a",
   "metadata": {},
   "source": [
    "Note\n",
    "-SlopeW format .GSZ is a compressed folder with XML(data) and PLY(Mesh) file\n",
    "-GeoCmd.exe can only run analysis, it cannot modify models"
   ]
  },
  {
   "cell_type": "markdown",
   "id": "4a1bc2d2",
   "metadata": {},
   "source": [
    "Model\n",
    "\n",
    "1. Slope/W file is prepared\n",
    "2. Extract XML file from .GSZ\n",
    "3. Modify XML file\n",
    "4. put XML file back inside .GSZ archive\n",
    "5. Run analysis with GeoCmd.exe\n",
    "6. Extract results\n",
    "\n",
    "Input\n",
    "\n",
    "-For: Slope/w files #1-n\n",
    "-For: Excel with parameters to swap\n",
    "\n",
    "Output\n",
    "\n",
    "-Amended Slope/w files\n",
    "(optional)\n",
    "-Excel results (for comparison, not presentation)\n",
    "\n",
    "Additional\n",
    "-Modify geometry?"
   ]
  },
  {
   "cell_type": "markdown",
   "id": "b5cd71dc",
   "metadata": {},
   "source": [
    "Libraries needed\n",
    "\n",
    "pip install pyunpack\n",
    "pip install patool"
   ]
  },
  {
   "cell_type": "code",
   "execution_count": null,
   "id": "6607e192",
   "metadata": {},
   "outputs": [],
   "source": [
    "import py7zr\n",
    "with py7zr.SevenZipFile(\"C:\\\\Users\\\\ryan.tse\\\\Desktop\\\\OasysAuto\\\\GeoStudio_Automate\\\\Zip\\\\Section1.gsz\", 'a') as archive:\n",
    "    archive.write(\"C:\\\\Users\\\\ryan.tse\\\\Desktop\\\\OasysAuto\\\\GeoStudio_Automate\\\\Zip\\\\test1.xml\")"
   ]
  },
  {
   "cell_type": "code",
   "execution_count": 1,
   "id": "610b3ffd",
   "metadata": {},
   "outputs": [],
   "source": [
    "import os\n",
    "import sys\n",
    "import subprocess"
   ]
  },
  {
   "cell_type": "code",
   "execution_count": 2,
   "id": "2c85744e",
   "metadata": {},
   "outputs": [
    {
     "name": "stdout",
     "output_type": "stream",
     "text": [
      "C:\\Users\\ryan.tse\\Desktop\\OasysAuto\\GeoStudio_Automate\n"
     ]
    }
   ],
   "source": [
    "cd C:\\Users\\ryan.tse\\Desktop\\OasysAuto\\GeoStudio_Automate"
   ]
  },
  {
   "cell_type": "code",
   "execution_count": 3,
   "id": "cbd701ca",
   "metadata": {},
   "outputs": [
    {
     "data": {
      "text/plain": [
       "'C:\\\\Users\\\\ryan.tse\\\\Desktop\\\\OasysAuto\\\\GeoStudio_Automate'"
      ]
     },
     "execution_count": 3,
     "metadata": {},
     "output_type": "execute_result"
    }
   ],
   "source": [
    "pwd"
   ]
  },
  {
   "cell_type": "code",
   "execution_count": 17,
   "id": "29d32054",
   "metadata": {},
   "outputs": [],
   "source": [
    "os.rename('Section1.gsz', 'SectionX.7z')"
   ]
  },
  {
   "cell_type": "code",
   "execution_count": 4,
   "id": "1cd8ee6d",
   "metadata": {
    "scrolled": true
   },
   "outputs": [
    {
     "ename": "NameError",
     "evalue": "name 'ZipFile' is not defined",
     "output_type": "error",
     "traceback": [
      "\u001b[1;31m---------------------------------------------------------------------------\u001b[0m",
      "\u001b[1;31mNameError\u001b[0m                                 Traceback (most recent call last)",
      "\u001b[1;32m~\\AppData\\Local\\Temp/ipykernel_5352/1023182570.py\u001b[0m in \u001b[0;36m<module>\u001b[1;34m\u001b[0m\n\u001b[0;32m      3\u001b[0m \u001b[0msrcfile\u001b[0m\u001b[1;33m=\u001b[0m\u001b[1;34mr\"C:\\Users\\ryan.tse\\Desktop\\OasysAuto\\GeoStudio_Automate\\ZipTest.gsz\"\u001b[0m\u001b[1;33m\u001b[0m\u001b[1;33m\u001b[0m\u001b[0m\n\u001b[0;32m      4\u001b[0m \u001b[1;33m\u001b[0m\u001b[0m\n\u001b[1;32m----> 5\u001b[1;33m \u001b[0mZipFile\u001b[0m\u001b[1;33m.\u001b[0m\u001b[0mnamelist\u001b[0m\u001b[1;33m(\u001b[0m\u001b[1;33m)\u001b[0m\u001b[1;33m\u001b[0m\u001b[1;33m\u001b[0m\u001b[0m\n\u001b[0m",
      "\u001b[1;31mNameError\u001b[0m: name 'ZipFile' is not defined"
     ]
    }
   ],
   "source": [
    "import zipfile\n",
    "\n",
    "srcfile=r\"C:\\Users\\ryan.tse\\Desktop\\OasysAuto\\GeoStudio_Automate\\ZipTest.gsz\"\n",
    "\n",
    "ZipFile.namelist()"
   ]
  },
  {
   "cell_type": "markdown",
   "id": "74796670",
   "metadata": {},
   "source": [
    "### <font color='blue'>*Define file path*</font>"
   ]
  },
  {
   "cell_type": "code",
   "execution_count": null,
   "id": "73999251",
   "metadata": {
    "scrolled": true
   },
   "outputs": [],
   "source": [
    "testfile = \"Section1.gsz\"\n",
    "print(testfile)"
   ]
  },
  {
   "cell_type": "markdown",
   "id": "42b7b9c4",
   "metadata": {},
   "source": [
    "### <font color='blue'>*Extract Slope/W file to get XML*</font>"
   ]
  },
  {
   "cell_type": "code",
   "execution_count": null,
   "id": "1fecc211",
   "metadata": {},
   "outputs": [],
   "source": [
    "from pyunpack import Archive\n",
    "Archive(testfile).extractall(\"C:\\\\Users\\\\ryan.tse\\\\Desktop\\\\OasysAuto\\\\GeoStudio_Automate\")"
   ]
  },
  {
   "cell_type": "markdown",
   "id": "5ba39132",
   "metadata": {},
   "source": [
    "Edit XML\n",
    "\n",
    "Use for Loop, Save as\n",
    "\n",
    "\n",
    "      <Name>CDT</Name>\n",
    "      <SlopeModel>MohrCoulomb</SlopeModel>\n",
    "      <StressStrain>\n",
    "        <UnitWeight>19</UnitWeight>\n",
    "        <CohesionPrime>5</CohesionPrime>\n",
    "        <PhiPrime>32</PhiPrime>\n",
    "      </StressStrain>"
   ]
  },
  {
   "cell_type": "code",
   "execution_count": null,
   "id": "4b43071c",
   "metadata": {},
   "outputs": [],
   "source": [
    "import xml.etree.ElementTree as ET\n",
    "\n",
    "tree = ET.parse(r\"C:\\Users\\ryan.tse\\Desktop\\OasysAuto\\GeoStudio_Automate\\Section1.xml\")\n",
    "root = tree.getroot()\n",
    "\n",
    "#check XML file\n",
    "#ET.dump(tree)\n",
    "\n",
    "#for Material in root.findall(\"Material\"):\n",
    " #   phi = Material.find(\"StressStrain\\PhiPrime\")\n",
    "  #  phiangle = int(phi.get(\"PhiPrime\"))\n",
    "    \n",
    "for mat in root.findall(\"Materials/Material[Name='CDT']/StressStrain/PhiPrime\"):\n",
    "    #print(mat, mat.tag, mat.attrib, mat.text)\n",
    "    print(mat.text)\n",
    "    mat.text = str(5)\n",
    "\n",
    "#Saveto    \n",
    "#tree.write(r\"C:\\Users\\ryan.tse\\Desktop\\OasysAuto\\GeoStudio_Automate\\Section1.xml\")"
   ]
  },
  {
   "cell_type": "code",
   "execution_count": null,
   "id": "cbab6328",
   "metadata": {},
   "outputs": [],
   "source": [
    "import xml.etree.ElementTree as ET\n",
    "\n",
    "tree = ET.parse(r\"C:\\Users\\ryan.tse\\Desktop\\OasysAuto\\GeoStudio_Automate\\Section1.xml\")\n",
    "root = tree.getroot()\n",
    "\n",
    "#check XML file\n",
    "#ET.dump(tree)\n",
    "\n",
    "#for Material in root.findall(\"Material\"):\n",
    " #   phi = Material.find(\"StressStrain\\PhiPrime\")\n",
    "  #  phiangle = int(phi.get(\"PhiPrime\"))\n",
    "\n",
    "for i in range(30, 36):\n",
    "\n",
    "    for mat in root.findall(\"Materials/Material[Name='CDT']/StressStrain/PhiPrime\"):\n",
    "    #print(mat, mat.tag, mat.attrib, mat.text)\n",
    "        mat.text = str(i)\n",
    "        print(mat.text)\n",
    "#Saveto    \n",
    "        tree.write(r\"C:\\Users\\ryan.tse\\Desktop\\OasysAuto\\GeoStudio_Automate\\Section \" + str(i) + \".xml\")"
   ]
  },
  {
   "cell_type": "code",
   "execution_count": null,
   "id": "f5b56b4c",
   "metadata": {},
   "outputs": [],
   "source": [
    "ET.dump(tree)"
   ]
  },
  {
   "cell_type": "code",
   "execution_count": null,
   "id": "b4620492",
   "metadata": {},
   "outputs": [],
   "source": []
  },
  {
   "cell_type": "code",
   "execution_count": null,
   "id": "f984f635",
   "metadata": {},
   "outputs": [],
   "source": [
    "#save as function\n",
    "tree.write('slopeedit.xml')"
   ]
  },
  {
   "cell_type": "code",
   "execution_count": null,
   "id": "b51d895c",
   "metadata": {},
   "outputs": [],
   "source": [
    "#need to put xml back inside original .GSZ file\n"
   ]
  },
  {
   "cell_type": "code",
   "execution_count": 17,
   "id": "3dcaee51",
   "metadata": {},
   "outputs": [
    {
     "data": {
      "text/plain": [
       "CompletedProcess(args='C:\\\\Program Files\\\\GEO-SLOPE\\\\GeoStudio 10\\\\Bin\\\\GeoCmd.exe \" + slopefile1 + r\" /solve /report /upgrade /out:\"C:\\\\Users\\\\ryan.tse\\\\Desktop\\\\OasysAuto\\\\GeoStudio_Automate\\\\Upgrade\"', returncode=1)"
      ]
     },
     "execution_count": 17,
     "metadata": {},
     "output_type": "execute_result"
    }
   ],
   "source": [
    "#run GeoCmd.exe\n",
    "#uses subprocess module\n",
    "import subprocess\n",
    "slopefile1 = \"C:\\\\Users\\\\ryan.tse\\\\Desktop\\\\OasysAuto\\\\GeoStudio_Automate\\Section 31.gsz\"\n",
    "subprocess.run(r'C:\\Program Files\\GEO-SLOPE\\GeoStudio 10\\Bin\\GeoCmd.exe \" + slopefile1 + r\" /solve /report /upgrade /out:\"C:\\Users\\ryan.tse\\Desktop\\OasysAuto\\GeoStudio_Automate\\Upgrade\"')"
   ]
  },
  {
   "cell_type": "code",
   "execution_count": 25,
   "id": "80650cc0",
   "metadata": {},
   "outputs": [
    {
     "data": {
      "text/plain": [
       "CompletedProcess(args='C:\\\\Program Files\\\\GEO-SLOPE\\\\GeoStudio 10\\\\Bin\\\\GeoCmd.exe C:\\\\Users\\\\ryan.tse\\\\Desktop\\\\OasysAuto\\\\GeoStudio_Automate\\\\Section 31.xml/solve /report', returncode=1)"
      ]
     },
     "execution_count": 25,
     "metadata": {},
     "output_type": "execute_result"
    }
   ],
   "source": [
    "#run GeoCmd.exe\n",
    "#uses subprocess module\n",
    "import subprocess\n",
    "geocmd = \"C:\\\\Program Files\\\\GEO-SLOPE\\\\GeoStudio 10\\\\Bin\\\\GeoCmd.exe\"\n",
    "slopefile1 = \"C:\\\\Users\\\\ryan.tse\\\\Desktop\\\\OasysAuto\\\\GeoStudio_Automate\\Section 31.xml\"\n",
    "subprocess.run(geocmd + \" \" + slopefile1 + \"/solve /report\")\n",
    "\n",
    "\n",
    "\n",
    "# \"C:\\\\Program Files\\\\GEO-SLOPE\\\\GeoStudio 10\\\\Bin\\\\GeoCmd.exe\" \"C:\\\\Users\\\\ryan.tse\\\\Desktop\\\\OasysAuto\\\\GeoStudio_Automate\\Section 31.xml\" /solve /report /upgrade /out:\"C:\\Users\\ryan.tse\\Desktop\\OasysAuto\\GeoStudio_Automate\\Upgrade\""
   ]
  },
  {
   "cell_type": "code",
   "execution_count": null,
   "id": "ef4070d5",
   "metadata": {},
   "outputs": [],
   "source": [
    "import zipfile\n",
    "\n",
    "# Open a zip file at the given filepath. If it doesn't exist, create one.\n",
    "# If the directory does not exist, it fails with FileNotFoundError\n",
    "filepath = 'C:\\\\Users\\\\ryan.tse\\\\Desktop\\\\OasysAuto\\\\GeoStudio_Automate\\\\Zip1'\n",
    "with zipfile.ZipFile(filepath, 'a') as zipf:\n",
    "    # Add a file located at the source_path to the destination within the zip\n",
    "    # file. It will overwrite existing files if the names collide, but it\n",
    "    # will give a warning\n",
    "    source_path = 'C:\\\\Users\\\\ryan.tse\\\\Desktop\\\\OasysAuto\\\\GeoStudio_Automate\\\\Section1.xml'\n",
    "    destination = 'C:\\\\Users\\\\ryan.tse\\\\Desktop\\\\OasysAuto\\\\GeoStudio_Automate\\\\Zip\\\\Section1.gsz'\n",
    "    zipf.write(source_path, destination)"
   ]
  },
  {
   "cell_type": "code",
   "execution_count": null,
   "id": "adf703af",
   "metadata": {},
   "outputs": [],
   "source": [
    "import zipfile\n",
    "\n",
    "source_path = 'C:\\\\Users\\\\ryan.tse\\\\Desktop\\\\OasysAuto\\\\GeoStudio_Automate\\\\Section1.xml'\n",
    "destination = 'C:\\\\Users\\\\ryan.tse\\\\Desktop\\\\OasysAuto\\\\GeoStudio_Automate\\\\Zip\\\\Section1.gsz'\n",
    "\n",
    "zip = zipfile.ZipFile('C:\\\\Users\\\\ryan.tse\\\\Desktop\\\\OasysAuto\\\\GeoStudio_Automate\\\\Zip\\\\Section1.gsz','a')\n",
    "zip.write(source_path, destination)\n",
    "zip.close"
   ]
  },
  {
   "cell_type": "code",
   "execution_count": null,
   "id": "90576fae",
   "metadata": {},
   "outputs": [],
   "source": []
  }
 ],
 "metadata": {
  "kernelspec": {
   "display_name": "Python 3 (ipykernel)",
   "language": "python",
   "name": "python3"
  },
  "language_info": {
   "codemirror_mode": {
    "name": "ipython",
    "version": 3
   },
   "file_extension": ".py",
   "mimetype": "text/x-python",
   "name": "python",
   "nbconvert_exporter": "python",
   "pygments_lexer": "ipython3",
   "version": "3.9.7"
  }
 },
 "nbformat": 4,
 "nbformat_minor": 5
}
